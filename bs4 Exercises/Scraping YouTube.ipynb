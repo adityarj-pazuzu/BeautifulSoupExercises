{
 "cells": [
  {
   "cell_type": "markdown",
   "metadata": {},
   "source": [
    "As a practice, you can have fun trying to scrape YouTube. We will provide you with a notebook to setup the scraper. Here are some ideas what to do:\n",
    "\n",
    "1. Scrape the text from each span tag\n",
    "\n",
    "2. How many images are on YouTube'e homepage?\n",
    "\n",
    "3. Can you find the URL of the link with title = \"Movies\"? Music? Sports?\n",
    "\n",
    "4. Now, try connecting to and scraping https://www.youtube.com/results?search_query=stairway+to+heaven\n",
    "\n",
    "        a. Can you get the names of the first few videos in the search results?\n",
    "\n",
    "        b. Next, connect to one of the search result videos - https://www.youtube.com/watch?v=qHFxncb1gRY\n",
    "\n",
    "        c. Can you find the \"related\" videos? What are their titles? Durations? URLs? Number of views?\n",
    "\n",
    "        d. Try finding (and scraping) the description of the video."
   ]
  },
  {
   "cell_type": "code",
   "execution_count": 155,
   "metadata": {},
   "outputs": [],
   "source": [
    "import requests\n",
    "from bs4 import BeautifulSoup\n",
    "from collections import namedtuple\n",
    "from urllib.parse import urljoin"
   ]
  },
  {
   "cell_type": "code",
   "execution_count": 3,
   "metadata": {},
   "outputs": [],
   "source": [
    "base_url = 'https://www.youtube.com/'"
   ]
  },
  {
   "cell_type": "code",
   "execution_count": 4,
   "metadata": {},
   "outputs": [
    {
     "data": {
      "text/plain": [
       "<Response [200]>"
      ]
     },
     "execution_count": 4,
     "metadata": {},
     "output_type": "execute_result"
    }
   ],
   "source": [
    "response = requests.get(base_url)\n",
    "response"
   ]
  },
  {
   "cell_type": "code",
   "execution_count": 5,
   "metadata": {},
   "outputs": [],
   "source": [
    "html = response.content"
   ]
  },
  {
   "cell_type": "code",
   "execution_count": 8,
   "metadata": {},
   "outputs": [],
   "source": [
    "soup = BeautifulSoup(html, 'lxml')"
   ]
  },
  {
   "cell_type": "code",
   "execution_count": 9,
   "metadata": {},
   "outputs": [],
   "source": [
    "with open('youtube.html', 'wb') as yt_file:\n",
    "    yt_file.write(soup.prettify('utf-8'))"
   ]
  },
  {
   "cell_type": "markdown",
   "metadata": {},
   "source": [
    "### 1. Scrape the text from each span tag"
   ]
  },
  {
   "cell_type": "code",
   "execution_count": 11,
   "metadata": {},
   "outputs": [],
   "source": [
    "span_tags = soup.find_all('span')"
   ]
  },
  {
   "cell_type": "code",
   "execution_count": 28,
   "metadata": {},
   "outputs": [
    {
     "data": {
      "text/plain": [
       "['IN',\n",
       " 'IN',\n",
       " 'Sign in',\n",
       " 'Search',\n",
       " 'Trending',\n",
       " 'Home',\n",
       " 'Home',\n",
       " 'Home',\n",
       " 'Trending',\n",
       " 'Trending',\n",
       " 'Trending',\n",
       " 'History',\n",
       " 'History',\n",
       " 'History',\n",
       " 'Get YouTube Premium',\n",
       " 'Get YouTube Premium',\n",
       " 'Get YouTube Premium',\n",
       " 'Music',\n",
       " 'Music',\n",
       " 'Music',\n",
       " 'Sports',\n",
       " 'Sports',\n",
       " 'Sports',\n",
       " 'Gaming',\n",
       " 'Gaming',\n",
       " 'Gaming',\n",
       " 'Films',\n",
       " 'Films',\n",
       " 'Films',\n",
       " 'News',\n",
       " 'News',\n",
       " 'News',\n",
       " 'Live',\n",
       " 'Live',\n",
       " 'Live',\n",
       " 'Fashion',\n",
       " 'Fashion',\n",
       " 'Fashion',\n",
       " 'Learning',\n",
       " 'Learning',\n",
       " 'Learning',\n",
       " 'Spotlight',\n",
       " 'Spotlight',\n",
       " 'Spotlight',\n",
       " '360┬░ Video',\n",
       " '360┬░ Video',\n",
       " '360┬░ Video',\n",
       " 'Browse channels',\n",
       " 'Browse channels',\n",
       " 'Browse channels',\n",
       " 'Sign in',\n",
       " 'Watch Queue',\n",
       " 'Queue',\n",
       " 'Remove allDisconnect',\n",
       " 'Remove all',\n",
       " 'Disconnect',\n",
       " 'The next video is starting',\n",
       " 'stop',\n",
       " 'stop',\n",
       " 'Loading...',\n",
       " 'Recommended',\n",
       " '3:56',\n",
       " '3:56',\n",
       " '- Duration: 3:56.',\n",
       " '5:17',\n",
       " '5:17',\n",
       " '- Duration: 5:17.',\n",
       " '17:49',\n",
       " '17:49',\n",
       " '- Duration: 17:49.',\n",
       " '1:19:30',\n",
       " '1:19:30',\n",
       " '- Duration: 1:19:30.',\n",
       " '23:08',\n",
       " '23:08',\n",
       " '- Duration: 23:08.',\n",
       " '4:04',\n",
       " '4:04',\n",
       " '- Duration: 4:04.',\n",
       " '5:52',\n",
       " '5:52',\n",
       " '- Duration: 5:52.',\n",
       " '14:14',\n",
       " '14:14',\n",
       " '- Duration: 14:14.',\n",
       " '5:42',\n",
       " '5:42',\n",
       " '- Duration: 5:42.',\n",
       " '11:07',\n",
       " '11:07',\n",
       " '- Duration: 11:07.',\n",
       " '7:51',\n",
       " '7:51',\n",
       " '- Duration: 7:51.',\n",
       " '8:34',\n",
       " '8:34',\n",
       " '- Duration: 8:34.',\n",
       " '6:59',\n",
       " '6:59',\n",
       " '- Duration: 6:59.',\n",
       " '19:21',\n",
       " '19:21',\n",
       " '- Duration: 19:21.',\n",
       " '37:51',\n",
       " '37:51',\n",
       " '- Duration: 37:51.',\n",
       " '14:07',\n",
       " '14:07',\n",
       " '- Duration: 14:07.',\n",
       " '3:44',\n",
       " '3:44',\n",
       " '- Duration: 3:44.',\n",
       " '29:53',\n",
       " '29:53',\n",
       " '- Duration: 29:53.',\n",
       " '8:24',\n",
       " '8:24',\n",
       " '- Duration: 8:24.',\n",
       " '7:25',\n",
       " '7:25',\n",
       " '- Duration: 7:25.',\n",
       " '12:34',\n",
       " '12:34',\n",
       " '- Duration: 12:34.',\n",
       " '32:52',\n",
       " '32:52',\n",
       " '- Duration: 32:52.',\n",
       " '4:31',\n",
       " '4:31',\n",
       " '- Duration: 4:31.',\n",
       " '14:59',\n",
       " '14:59',\n",
       " '- Duration: 14:59.',\n",
       " 'Show more',\n",
       " 'Show fewer',\n",
       " 'Trending',\n",
       " '13:32',\n",
       " '13:32',\n",
       " '- Duration: 13:32.',\n",
       " '27:06',\n",
       " '27:06',\n",
       " '- Duration: 27:06.',\n",
       " '20:59',\n",
       " '20:59',\n",
       " '- Duration: 20:59.',\n",
       " '11:49',\n",
       " '11:49',\n",
       " '- Duration: 11:49.',\n",
       " '51:25',\n",
       " '51:25',\n",
       " '- Duration: 51:25.',\n",
       " '6:35',\n",
       " '6:35',\n",
       " '- Duration: 6:35.',\n",
       " '13:09',\n",
       " '13:09',\n",
       " '- Duration: 13:09.',\n",
       " '59:58',\n",
       " '59:58',\n",
       " '- Duration: 59:58.',\n",
       " '8:00',\n",
       " '8:00',\n",
       " '- Duration: 8:00.',\n",
       " '1:29',\n",
       " '1:29',\n",
       " '- Duration: 1:29.',\n",
       " '4:18',\n",
       " '4:18',\n",
       " '- Duration: 4:18.',\n",
       " '3:50',\n",
       " '3:50',\n",
       " '- Duration: 3:50.',\n",
       " '2:28',\n",
       " '2:28',\n",
       " '- Duration: 2:28.',\n",
       " '12:28',\n",
       " '12:28',\n",
       " '- Duration: 12:28.',\n",
       " '10:31',\n",
       " '10:31',\n",
       " '- Duration: 10:31.',\n",
       " 'Tamil Cinema - Topic',\n",
       " 'Recommended channel',\n",
       " '6:59',\n",
       " '6:59',\n",
       " '- Duration: 6:59.',\n",
       " '2:18:46',\n",
       " '2:18:46',\n",
       " '- Duration: 2:18:46.',\n",
       " '28:35',\n",
       " '28:35',\n",
       " '- Duration: 28:35.',\n",
       " '1:44:52',\n",
       " '1:44:52',\n",
       " '- Duration: 1:44:52.',\n",
       " '1:53:41',\n",
       " '1:53:41',\n",
       " '- Duration: 1:53:41.',\n",
       " '55:28',\n",
       " '55:28',\n",
       " '- Duration: 55:28.',\n",
       " '2:06:47',\n",
       " '2:06:47',\n",
       " '- Duration: 2:06:47.',\n",
       " '29:05',\n",
       " '29:05',\n",
       " '- Duration: 29:05.',\n",
       " '2:26:32',\n",
       " '2:26:32',\n",
       " '- Duration: 2:26:32.',\n",
       " 'Taarak Mehta Ka Ooltah Chashmah - Topic',\n",
       " 'Recommended channel',\n",
       " '19:21',\n",
       " '19:21',\n",
       " '- Duration: 19:21.',\n",
       " '17:52',\n",
       " '17:52',\n",
       " '- Duration: 17:52.',\n",
       " '21:01',\n",
       " '21:01',\n",
       " '- Duration: 21:01.',\n",
       " '23:35',\n",
       " '23:35',\n",
       " '- Duration: 23:35.',\n",
       " '20:32',\n",
       " '20:32',\n",
       " '- Duration: 20:32.',\n",
       " '20:17',\n",
       " '20:17',\n",
       " '- Duration: 20:17.',\n",
       " '21:18',\n",
       " '21:18',\n",
       " '- Duration: 21:18.',\n",
       " '20:49',\n",
       " '20:49',\n",
       " '- Duration: 20:49.',\n",
       " '20:39',\n",
       " '20:39',\n",
       " '- Duration: 20:39.',\n",
       " '20:36',\n",
       " '20:36',\n",
       " '- Duration: 20:36.',\n",
       " '21:16',\n",
       " '21:16',\n",
       " '- Duration: 21:16.',\n",
       " '19:19',\n",
       " '19:19',\n",
       " '- Duration: 19:19.',\n",
       " '19:49',\n",
       " '19:49',\n",
       " '- Duration: 19:49.',\n",
       " '20:51',\n",
       " '20:51',\n",
       " '- Duration: 20:51.',\n",
       " '21:14',\n",
       " '21:14',\n",
       " '- Duration: 21:14.',\n",
       " 'Quantum Tech HD',\n",
       " 'Recommended channel',\n",
       " '14:07',\n",
       " '14:07',\n",
       " '- Duration: 14:07.',\n",
       " '9:45',\n",
       " '9:45',\n",
       " '- Duration: 9:45.',\n",
       " '9:15',\n",
       " '9:15',\n",
       " '- Duration: 9:15.',\n",
       " 'Cartoons - Topic',\n",
       " 'Recommended channel',\n",
       " '29:53',\n",
       " '29:53',\n",
       " '- Duration: 29:53.',\n",
       " '12:34',\n",
       " '12:34',\n",
       " '- Duration: 12:34.',\n",
       " '40:51',\n",
       " '40:51',\n",
       " '- Duration: 40:51.',\n",
       " '5:46',\n",
       " '5:46',\n",
       " '- Duration: 5:46.',\n",
       " '8:50',\n",
       " '8:50',\n",
       " '- Duration: 8:50.',\n",
       " '14:14',\n",
       " '14:14',\n",
       " '- Duration: 14:14.',\n",
       " '6:46',\n",
       " '6:46',\n",
       " '- Duration: 6:46.',\n",
       " '48:19',\n",
       " '48:19',\n",
       " '- Duration: 48:19.',\n",
       " '1:03:32',\n",
       " '1:03:32',\n",
       " '- Duration: 1:03:32.',\n",
       " '9:57',\n",
       " '9:57',\n",
       " '- Duration: 9:57.',\n",
       " '5:52',\n",
       " '5:52',\n",
       " '- Duration: 5:52.',\n",
       " '6:34',\n",
       " '6:34',\n",
       " '- Duration: 6:34.',\n",
       " '29:19',\n",
       " '29:19',\n",
       " '- Duration: 29:19.',\n",
       " '6:25',\n",
       " '6:25',\n",
       " '- Duration: 6:25.',\n",
       " '54:56',\n",
       " '54:56',\n",
       " '- Duration: 54:56.',\n",
       " 'Role-Playing Games - Topic',\n",
       " 'Recommended channel',\n",
       " '8:24',\n",
       " '8:24',\n",
       " '- Duration: 8:24.',\n",
       " '20:18',\n",
       " '20:18',\n",
       " '- Duration: 20:18.',\n",
       " '2:24:03',\n",
       " '2:24:03',\n",
       " '- Duration: 2:24:03.',\n",
       " '14:00',\n",
       " '14:00',\n",
       " '- Duration: 14:00.',\n",
       " '3:47:00',\n",
       " '3:47:00',\n",
       " '- Duration: 3:47:00.',\n",
       " '3:11:13',\n",
       " '3:11:13',\n",
       " '- Duration: 3:11:13.',\n",
       " '2:19:06',\n",
       " '2:19:06',\n",
       " '- Duration: 2:19:06.',\n",
       " 'Action Movies - Topic',\n",
       " 'Recommended channel',\n",
       " '7:25',\n",
       " '7:25',\n",
       " '- Duration: 7:25.',\n",
       " '2:23',\n",
       " '2:23',\n",
       " '- Duration: 2:23.',\n",
       " '19:30',\n",
       " '19:30',\n",
       " '- Duration: 19:30.',\n",
       " '2:10:17',\n",
       " '2:10:17',\n",
       " '- Duration: 2:10:17.',\n",
       " '1:41:02',\n",
       " '1:41:02',\n",
       " '- Duration: 1:41:02.',\n",
       " '4:15',\n",
       " '4:15',\n",
       " '- Duration: 4:15.',\n",
       " '1:54:14',\n",
       " '1:54:14',\n",
       " '- Duration: 1:54:14.',\n",
       " '2:00:12',\n",
       " '2:00:12',\n",
       " '- Duration: 2:00:12.',\n",
       " '45:05',\n",
       " '45:05',\n",
       " '- Duration: 45:05.',\n",
       " '2:19:32',\n",
       " '2:19:32',\n",
       " '- Duration: 2:19:32.',\n",
       " '2:01:18',\n",
       " '2:01:18',\n",
       " '- Duration: 2:01:18.',\n",
       " '5:23',\n",
       " '5:23',\n",
       " '- Duration: 5:23.',\n",
       " '1:49:26',\n",
       " '1:49:26',\n",
       " '- Duration: 1:49:26.',\n",
       " '2:00:13',\n",
       " '2:00:13',\n",
       " '- Duration: 2:00:13.',\n",
       " '2:06:47',\n",
       " '2:06:47',\n",
       " '- Duration: 2:06:47.',\n",
       " 'Loading...\\n  \\n\\n\\n    Load more',\n",
       " 'Loading...',\n",
       " 'Loading...',\n",
       " 'Load more',\n",
       " 'Loading...',\n",
       " 'Language:\\n  \\n  English',\n",
       " 'Language:',\n",
       " 'Location:\\n  \\n  India',\n",
       " 'Location:',\n",
       " 'Restricted Mode:\\n  \\nOff',\n",
       " 'Restricted Mode:',\n",
       " 'History',\n",
       " 'Help',\n",
       " 'Loading...',\n",
       " 'Loading...',\n",
       " 'Loading...',\n",
       " '© 2020 Google LLC',\n",
       " 'Loading...',\n",
       " 'Working...',\n",
       " 'Loading playlists...']"
      ]
     },
     "execution_count": 28,
     "metadata": {},
     "output_type": "execute_result"
    }
   ],
   "source": [
    "span_text = [tag.text.strip() for tag in span_tags if tag.text.strip()]\n",
    "span_text"
   ]
  },
  {
   "cell_type": "code",
   "execution_count": 29,
   "metadata": {},
   "outputs": [
    {
     "data": {
      "text/plain": [
       "405"
      ]
     },
     "execution_count": 29,
     "metadata": {},
     "output_type": "execute_result"
    }
   ],
   "source": [
    "len(span_text)"
   ]
  },
  {
   "cell_type": "markdown",
   "metadata": {},
   "source": [
    "### 2. How many images are on YouTube'e homepage?"
   ]
  },
  {
   "cell_type": "code",
   "execution_count": 30,
   "metadata": {},
   "outputs": [],
   "source": [
    "img_tags = soup.find_all('img')"
   ]
  },
  {
   "cell_type": "code",
   "execution_count": 32,
   "metadata": {},
   "outputs": [
    {
     "data": {
      "text/plain": [
       "119"
      ]
     },
     "execution_count": 32,
     "metadata": {},
     "output_type": "execute_result"
    }
   ],
   "source": [
    "len(img_tags)"
   ]
  },
  {
   "cell_type": "markdown",
   "metadata": {},
   "source": [
    "### 3. Can you find the URL of the link with title = \"Movies\"? Music? Sports?\n",
    "\n",
    "In current html page there is not tag with title=\"Movies\" but there is one tag for Music and Sports each.\n",
    "\n",
    "It comes under `a` tag"
   ]
  },
  {
   "cell_type": "code",
   "execution_count": 42,
   "metadata": {},
   "outputs": [],
   "source": [
    "music_tag = soup.find('a', title='Music')\n",
    "sports_tag = soup.find('a', title='Sports')"
   ]
  },
  {
   "cell_type": "code",
   "execution_count": 39,
   "metadata": {},
   "outputs": [
    {
     "data": {
      "text/plain": [
       "'/channel/UC-9-kyTW8ZkZNDHQJ6FgpwQ'"
      ]
     },
     "execution_count": 39,
     "metadata": {},
     "output_type": "execute_result"
    }
   ],
   "source": [
    "music_tag['href']"
   ]
  },
  {
   "cell_type": "markdown",
   "metadata": {},
   "source": [
    "Obtained link is relative URL. We can convert it into Absolute url"
   ]
  },
  {
   "cell_type": "code",
   "execution_count": 41,
   "metadata": {},
   "outputs": [
    {
     "data": {
      "text/plain": [
       "'https://www.youtube.com/channel/UC-9-kyTW8ZkZNDHQJ6FgpwQ'"
      ]
     },
     "execution_count": 41,
     "metadata": {},
     "output_type": "execute_result"
    }
   ],
   "source": [
    "relative_url_music = music_tag['href']\n",
    "music_url = urljoin(base_url, relative_url_music)\n",
    "music_url"
   ]
  },
  {
   "cell_type": "code",
   "execution_count": 43,
   "metadata": {},
   "outputs": [
    {
     "data": {
      "text/plain": [
       "'https://www.youtube.com/channel/UCEgdi0XIXXZ-qJOFPf4JSKw'"
      ]
     },
     "execution_count": 43,
     "metadata": {},
     "output_type": "execute_result"
    }
   ],
   "source": [
    "relative_url_sports = sports_tag['href']\n",
    "sports_url = urljoin(base_url, relative_url_sports)\n",
    "sports_url"
   ]
  },
  {
   "cell_type": "markdown",
   "metadata": {},
   "source": [
    "### Scraping https://www.youtube.com/results?search_query=stairway+to+heaven"
   ]
  },
  {
   "cell_type": "code",
   "execution_count": 45,
   "metadata": {},
   "outputs": [],
   "source": [
    "search_url = 'https://www.youtube.com/results?search_query=stairway+to+heaven'\n",
    "r = requests.get(search_url)\n",
    "html = r.content\n",
    "soup = BeautifulSoup(html, 'lxml')\n",
    "with open('YTsearch.html', 'wb') as yt_file:\n",
    "    yt_file.write(soup.prettify('utf-8'))"
   ]
  },
  {
   "cell_type": "markdown",
   "metadata": {},
   "source": [
    "### Get the names of first few videos\n",
    "\n",
    "`div` tag with `class=yt-lockup-content`"
   ]
  },
  {
   "cell_type": "code",
   "execution_count": 46,
   "metadata": {},
   "outputs": [],
   "source": [
    "div_tags = soup.find_all('div', class_='yt-lockup-content')"
   ]
  },
  {
   "cell_type": "code",
   "execution_count": 52,
   "metadata": {},
   "outputs": [],
   "source": [
    "video_titles = [tag.find('a').text for tag in div_tags]"
   ]
  },
  {
   "cell_type": "code",
   "execution_count": 53,
   "metadata": {},
   "outputs": [
    {
     "data": {
      "text/plain": [
       "['Led Zeppelin -  Stairway to Heaven Live',\n",
       " 'Stairway to Heaven Led Zeppelin Lyrics',\n",
       " 'Led Zeppelin - Stairway To Heaven (Official Audio)',\n",
       " 'Led Zeppelin - Stairway To Heaven',\n",
       " 'Heart - Stairway to Heaven (Live at Kennedy Center Honors) [FULL VERSION]',\n",
       " 'Stairway To Heaven',\n",
       " 'Led Zeppelin \"Stairway to Heaven\" performed by The Classic Rock Show',\n",
       " 'Led Zeppelin Live Aid 1985 3 Stairway to Heaven Stereo',\n",
       " 'STAIRWAY TO HEAVEN -  Flashmob - LEGENDADO PORTUGUÊS - INGLÊS',\n",
       " 'stairway to heaven backwards',\n",
       " 'stairway to heaven love song',\n",
       " 'Stairway To Heaven Led Zeppelin Guitar Lesson + Tutorial',\n",
       " 'Metallica: Nothing Else Matters (Official Music Video)',\n",
       " \"Led Zeppelin Celebration Day 10 dicembre 2007 presso l'O2 Arena di Londra\",\n",
       " 'The Kennedy Center Honors Led Zeppelin 2012',\n",
       " 'Deep Purple - Highway Star 1972 Video HQ',\n",
       " 'Led Zeppelin - Achilles Last Stand (Live Knebworth 1979)',\n",
       " \"Legendary Licks You Think Are Easy (but aren't)\",\n",
       " 'Homenagem ao Led Zeppelin com Stairway to Heaven',\n",
       " 'David Gilmour  - Comfortably Numb  Live in Pompeii 2016',\n",
       " 'Led Zeppelin - Kashmir (Live from Celebration Day) (Official Video)',\n",
       " 'Heart crazy on you',\n",
       " \"Stairway to Heaven (Led Zeppelin Tribute): Heart's Ann and Nancy Wilson - 2012 Kennedy Center Honors\",\n",
       " 'Stairway to heaven...abhishek gurung',\n",
       " 'Stairway to heaven',\n",
       " 'Mix – Led Zeppelin -  Stairway to Heaven Live',\n",
       " 'Led Zeppelin - Stairway to heaven (cover by Chloé)',\n",
       " 'Led Zeppelin Stairway To Heaven Live Earls Court 1975 HD',\n",
       " 'theme from stairway to heaven korean tv drama',\n",
       " 'Stairway To Heaven Solo - Led Zeppelin - Acoustic Guitar Cover']"
      ]
     },
     "execution_count": 53,
     "metadata": {},
     "output_type": "execute_result"
    }
   ],
   "source": [
    "video_titles"
   ]
  },
  {
   "cell_type": "markdown",
   "metadata": {},
   "source": [
    "### 3. find the \"related\" videos? What are their titles? Durations? URLs? Number of views\n",
    "\n",
    "https://www.youtube.com/watch?v=qHFxncb1gRY"
   ]
  },
  {
   "cell_type": "code",
   "execution_count": 54,
   "metadata": {},
   "outputs": [],
   "source": [
    "url = 'https://www.youtube.com/watch?v=qHFxncb1gRY'\n",
    "r = requests.get(url)\n",
    "html = r.content\n",
    "soup = BeautifulSoup(html, 'lxml')\n",
    "with open('YTsearchpt2.html', 'wb') as yt_file:\n",
    "    yt_file.write(soup.prettify('utf-8'))"
   ]
  },
  {
   "cell_type": "code",
   "execution_count": 99,
   "metadata": {},
   "outputs": [],
   "source": [
    "anchor_tag = soup.find_all('li', class_=\"video-list-item related-list-item\")"
   ]
  },
  {
   "cell_type": "code",
   "execution_count": 133,
   "metadata": {},
   "outputs": [
    {
     "data": {
      "text/plain": [
       "['Led Zeppelin - Stairway To Heaven',\n",
       " '「Eagles」Hotel California lyrics (HD)',\n",
       " 'Scorpions - Still Loving You ( lyrics )',\n",
       " 'Pink Floyd - Another Brick In The Wall',\n",
       " 'Lynyrd Skynyrd - Simple Man (Subtitulado Español/Inglés)',\n",
       " 'Metallica - Nothing else matter lyrics',\n",
       " 'The Animals - House Of The Rising Sun (LYRICS)',\n",
       " 'Dire Straits-Sultans of Swing (with lyrics)',\n",
       " 'Have You Ever Seen The Rain ? - Creedence Clearwater Revival (lyrics)',\n",
       " 'Eagles - Hotel California',\n",
       " 'Pink Floyd - Comfortably Numb With Lyrics',\n",
       " 'Metallica - \"Nothing Else Matters\" Lyrics (HD)',\n",
       " 'Hotel California',\n",
       " 'Nirvana - Smells Like Teen Spirit (Lyrics)',\n",
       " 'Eric Clapton - Tears In Heaven (lyrics)',\n",
       " \"Guns N' Roses - Knockin' on Heaven's door Lyrics\",\n",
       " 'Aerosmith - Dream on- Lyrics',\n",
       " 'Pink Floyd-Wish You Were Here (Lyrics)',\n",
       " 'Deep Purple - Soldier of Fortune Lyrics']"
      ]
     },
     "execution_count": 133,
     "metadata": {},
     "output_type": "execute_result"
    }
   ],
   "source": [
    "related_titles = [tag.find('a')['title'].strip() for tag in anchor_tag \n",
    "                  if tag.find('a',class_='content-link')]\n",
    "related_titles"
   ]
  },
  {
   "cell_type": "code",
   "execution_count": 161,
   "metadata": {},
   "outputs": [
    {
     "data": {
      "text/plain": [
       "['8:02',\n",
       " '6:30',\n",
       " '6:27',\n",
       " '10:16',\n",
       " '5:53',\n",
       " '6:37',\n",
       " '4:30',\n",
       " '5:51',\n",
       " '2:36',\n",
       " '6:31',\n",
       " '6:25',\n",
       " '6:31',\n",
       " '7:27',\n",
       " '5:03',\n",
       " '4:37',\n",
       " '5:37',\n",
       " '4:28',\n",
       " '5:18',\n",
       " '3:14']"
      ]
     },
     "execution_count": 161,
     "metadata": {},
     "output_type": "execute_result"
    }
   ],
   "source": [
    "related_durations = [tag.find('span', class_='video-time').text for tag in anchor_tag\n",
    "             if tag.find('span', class_='video-time')]\n",
    "related_durations"
   ]
  },
  {
   "cell_type": "code",
   "execution_count": 143,
   "metadata": {},
   "outputs": [],
   "source": [
    "abs_urls = [tag.find('a')['href'].strip() for tag in anchor_tag \n",
    "                  if tag.find('a',class_='content-link')]"
   ]
  },
  {
   "cell_type": "code",
   "execution_count": 159,
   "metadata": {},
   "outputs": [
    {
     "data": {
      "text/plain": [
       "['https://www.youtube.com/watch?v=Nnu1E5Kslig',\n",
       " 'https://www.youtube.com/watch?v=w1pK5anfAVM',\n",
       " 'https://www.youtube.com/watch?v=EYyarcp5LtU',\n",
       " 'https://www.youtube.com/watch?v=Y9d72n2fX6g',\n",
       " 'https://www.youtube.com/watch?v=fx4qXtdaNpE',\n",
       " 'https://www.youtube.com/watch?v=x7bIbVlIqEc',\n",
       " 'https://www.youtube.com/watch?v=y2oKRKZnEoA',\n",
       " 'https://www.youtube.com/watch?v=nRIiyCWRGTo',\n",
       " 'https://www.youtube.com/watch?v=pmTiK9jp970',\n",
       " 'https://www.youtube.com/watch?v=EqPtz5qN7HM',\n",
       " 'https://www.youtube.com/watch?v=XpqjEnRU6uM',\n",
       " 'https://www.youtube.com/watch?v=TJJ_qnoF_yI',\n",
       " 'https://www.youtube.com/watch?v=jVHhV3A5C5c',\n",
       " 'https://www.youtube.com/watch?v=ukWaogFC0O8',\n",
       " 'https://www.youtube.com/watch?v=ZqtyQuXo9zM',\n",
       " 'https://www.youtube.com/watch?v=FoYD-IT-jRI',\n",
       " 'https://www.youtube.com/watch?v=L9srmft6STc',\n",
       " 'https://www.youtube.com/watch?v=1tGO1Y4FGpI',\n",
       " 'https://www.youtube.com/watch?v=d9hmm6MZ3GY']"
      ]
     },
     "execution_count": 159,
     "metadata": {},
     "output_type": "execute_result"
    }
   ],
   "source": [
    "related_urls = [urljoin(url, link) for link in abs_urls]\n",
    "related_urls"
   ]
  },
  {
   "cell_type": "code",
   "execution_count": 160,
   "metadata": {},
   "outputs": [
    {
     "data": {
      "text/plain": [
       "['2,87,99,739',\n",
       " '7,64,205',\n",
       " '5,67,06,864',\n",
       " '36,06,768',\n",
       " '75,56,783',\n",
       " '7,10,06,979',\n",
       " '1,88,36,818',\n",
       " '5,31,074',\n",
       " '1,05,30,006',\n",
       " '47,00,76,198',\n",
       " '86,36,850',\n",
       " '56,44,910',\n",
       " '49,56,955',\n",
       " '12,48,387',\n",
       " '1,61,80,224',\n",
       " '17,04,652',\n",
       " '72,54,409',\n",
       " '2,96,01,307',\n",
       " '85,28,985']"
      ]
     },
     "execution_count": 160,
     "metadata": {},
     "output_type": "execute_result"
    }
   ],
   "source": [
    "related_views = [tag.find('span', class_='stat view-count').text[:-5].strip() for tag in anchor_tag\n",
    "             if tag.find('span', class_='stat view-count')]\n",
    "\n",
    "related_views"
   ]
  },
  {
   "cell_type": "code",
   "execution_count": 157,
   "metadata": {},
   "outputs": [],
   "source": [
    "related_videos = namedtuple('Video', 'Title Duration URL Views')"
   ]
  },
  {
   "cell_type": "code",
   "execution_count": 162,
   "metadata": {},
   "outputs": [
    {
     "name": "stdout",
     "output_type": "stream",
     "text": [
      "Video(Title='Led Zeppelin - Stairway To Heaven', Duration='8:02', URL='https://www.youtube.com/watch?v=Nnu1E5Kslig', Views='2,87,99,739')\n",
      "Video(Title='「Eagles」Hotel California lyrics (HD)', Duration='6:30', URL='https://www.youtube.com/watch?v=w1pK5anfAVM', Views='7,64,205')\n",
      "Video(Title='Scorpions - Still Loving You ( lyrics )', Duration='6:27', URL='https://www.youtube.com/watch?v=EYyarcp5LtU', Views='5,67,06,864')\n",
      "Video(Title='Pink Floyd - Another Brick In The Wall', Duration='10:16', URL='https://www.youtube.com/watch?v=Y9d72n2fX6g', Views='36,06,768')\n",
      "Video(Title='Lynyrd Skynyrd - Simple Man (Subtitulado Español/Inglés)', Duration='5:53', URL='https://www.youtube.com/watch?v=fx4qXtdaNpE', Views='75,56,783')\n",
      "Video(Title='Metallica - Nothing else matter lyrics', Duration='6:37', URL='https://www.youtube.com/watch?v=x7bIbVlIqEc', Views='7,10,06,979')\n",
      "Video(Title='The Animals - House Of The Rising Sun (LYRICS)', Duration='4:30', URL='https://www.youtube.com/watch?v=y2oKRKZnEoA', Views='1,88,36,818')\n",
      "Video(Title='Dire Straits-Sultans of Swing (with lyrics)', Duration='5:51', URL='https://www.youtube.com/watch?v=nRIiyCWRGTo', Views='5,31,074')\n",
      "Video(Title='Have You Ever Seen The Rain ? - Creedence Clearwater Revival (lyrics)', Duration='2:36', URL='https://www.youtube.com/watch?v=pmTiK9jp970', Views='1,05,30,006')\n",
      "Video(Title='Eagles - Hotel California', Duration='6:31', URL='https://www.youtube.com/watch?v=EqPtz5qN7HM', Views='47,00,76,198')\n",
      "Video(Title='Pink Floyd - Comfortably Numb With Lyrics', Duration='6:25', URL='https://www.youtube.com/watch?v=XpqjEnRU6uM', Views='86,36,850')\n",
      "Video(Title='Metallica - \"Nothing Else Matters\" Lyrics (HD)', Duration='6:31', URL='https://www.youtube.com/watch?v=TJJ_qnoF_yI', Views='56,44,910')\n",
      "Video(Title='Hotel California', Duration='7:27', URL='https://www.youtube.com/watch?v=jVHhV3A5C5c', Views='49,56,955')\n",
      "Video(Title='Nirvana - Smells Like Teen Spirit (Lyrics)', Duration='5:03', URL='https://www.youtube.com/watch?v=ukWaogFC0O8', Views='12,48,387')\n",
      "Video(Title='Eric Clapton - Tears In Heaven (lyrics)', Duration='4:37', URL='https://www.youtube.com/watch?v=ZqtyQuXo9zM', Views='1,61,80,224')\n",
      "Video(Title=\"Guns N' Roses - Knockin' on Heaven's door Lyrics\", Duration='5:37', URL='https://www.youtube.com/watch?v=FoYD-IT-jRI', Views='17,04,652')\n",
      "Video(Title='Aerosmith - Dream on- Lyrics', Duration='4:28', URL='https://www.youtube.com/watch?v=L9srmft6STc', Views='72,54,409')\n",
      "Video(Title='Pink Floyd-Wish You Were Here (Lyrics)', Duration='5:18', URL='https://www.youtube.com/watch?v=1tGO1Y4FGpI', Views='2,96,01,307')\n",
      "Video(Title='Deep Purple - Soldier of Fortune Lyrics', Duration='3:14', URL='https://www.youtube.com/watch?v=d9hmm6MZ3GY', Views='85,28,985')\n"
     ]
    }
   ],
   "source": [
    "for i in zip(related_titles, related_durations, related_urls, related_views):\n",
    "    print(related_videos(*i))"
   ]
  },
  {
   "cell_type": "markdown",
   "metadata": {},
   "source": [
    "### Getting the Discription of video"
   ]
  },
  {
   "cell_type": "code",
   "execution_count": 171,
   "metadata": {},
   "outputs": [
    {
     "data": {
      "text/plain": [
       "'\"Stairway to Heaven\" is a song by the English rock band Led Zeppelin. It was composed by guitarist Jimmy Page and vocalist Robert Plant for the band\\'s fourth unnamed studio album, (see Led Zeppelin IV (1971)). The song was voted #3 in 2000 by VH1 on their list of the 100 Greatest Rock Songs.[1] It was the most requested song on FM radio stations in the United States in the 1970s, despite never having been released as a single there.[2] In November 2007, through download sales promoting Led Zeppelin\\'s Mothership release, \"Stairway to Heaven\" hit #37 on the UK Singles Chart.[3]'"
      ]
     },
     "execution_count": 171,
     "metadata": {},
     "output_type": "execute_result"
    }
   ],
   "source": [
    "soup.find('p', {'id':'eow-description'}).text"
   ]
  },
  {
   "cell_type": "code",
   "execution_count": null,
   "metadata": {},
   "outputs": [],
   "source": []
  }
 ],
 "metadata": {
  "kernelspec": {
   "display_name": "Python 3",
   "language": "python",
   "name": "python3"
  },
  "language_info": {
   "codemirror_mode": {
    "name": "ipython",
    "version": 3
   },
   "file_extension": ".py",
   "mimetype": "text/x-python",
   "name": "python",
   "nbconvert_exporter": "python",
   "pygments_lexer": "ipython3",
   "version": "3.7.6"
  }
 },
 "nbformat": 4,
 "nbformat_minor": 2
}
